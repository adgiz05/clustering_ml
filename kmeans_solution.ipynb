{
 "cells": [
  {
   "cell_type": "code",
   "execution_count": null,
   "metadata": {},
   "outputs": [],
   "source": [
    "import random\n",
    "\n",
    "import numpy as np\n",
    "import matplotlib.pyplot as plt\n",
    "from scipy.spatial import distance\n",
    "\n",
    "DATASET1 = \"./dataSets/DS_3Clusters_999Points.txt\"\n",
    "DATASET2 = \"./dataSets/DS2_3Clusters_999Points.txt\"\n",
    "DATASET3 = \"./dataSets/DS_5Clusters_10000Points.txt\"\n",
    "DATASET4 = \"./dataSets/DS_7Clusters_100000Points.txt\"\n",
    "\n",
    "COLORS = ['red', 'blue', 'green', 'yellow', 'gray', 'pink', 'violet', 'brown', 'cyan', 'magenta']"
   ]
  },
  {
   "cell_type": "markdown",
   "metadata": {},
   "source": [
    "La clase Point es inicializada con sus coordenadas así como de su dimensión.\n",
    "\n",
    "La clase Cluster recibe una lista con sus puntos pertenecientes. Incorpora dos funciones principales:\n",
    "- calculate_centroid\n",
    "- update_centroid"
   ]
  },
  {
   "cell_type": "code",
   "execution_count": 2,
   "metadata": {},
   "outputs": [],
   "source": [
    "class Point:\n",
    "    \"\"\"\n",
    "    Class to represent a point in N dimension\n",
    "    \"\"\"\n",
    "\n",
    "    def __init__(self, coordinates):\n",
    "        self.coordinates = coordinates\n",
    "        self.dimension = len(coordinates)\n",
    "\n",
    "    def __repr__(self):\n",
    "        return 'Coordinates: ' + str(self.coordinates) + \\\n",
    "               ' -> Dimension: ' + str(self.dimension)\n",
    "\n",
    "\n",
    "class Cluster:\n",
    "    \"\"\"\n",
    "    Class to represent a Cluster: set of points and their centroid\n",
    "    \"\"\"\n",
    "\n",
    "    def __init__(self, points):\n",
    "        if len(points) == 0:\n",
    "            raise Exception(\"Cluster cannot have 0 Points\")\n",
    "        else:\n",
    "            self.points = points\n",
    "            self.dimension = points[0].dimension\n",
    "\n",
    "        # Check that all elements of the cluster have the same dimension\n",
    "        for p in points:\n",
    "            if p.dimension != self.dimension:\n",
    "                raise Exception(\n",
    "                    \"Point %s has dimension %d different with %d from the rest \"\n",
    "                    \"of points\") % (p, len(p), self.dimension)\n",
    "\n",
    "        # Calculate Centroid\n",
    "        self.centroid = self.calculate_centroid()\n",
    "        self.converge = False\n",
    "\n",
    "    def calculate_centroid(self):\n",
    "        \"\"\"\n",
    "        Method that calculates the centroid of the Cluster, calculating\n",
    "        the average of each of the coordinates of the points\n",
    "        :return: Centroid of cluster\n",
    "        \"\"\"\n",
    "        sum_coordinates = np.zeros(self.dimension)\n",
    "        for p in self.points:\n",
    "            for i, x in enumerate(p.coordinates):\n",
    "                sum_coordinates[i] += x\n",
    "\n",
    "        return (sum_coordinates / len(self.points)).tolist()\n",
    "\n",
    "    def update_cluster(self, points):\n",
    "        \"\"\"\n",
    "        Calculate the new centroid and check if converge\n",
    "        :param points: list of new points\n",
    "        :return: updated cluster\n",
    "        \"\"\"\n",
    "        old_centroid = self.centroid\n",
    "        self.points = points\n",
    "        self.centroid = self.calculate_centroid()\n",
    "        self.converge = np.array_equal(old_centroid, self.centroid)\n",
    "\n",
    "    def __repr__(self):\n",
    "        cluster = 'Centroid: ' + str(self.centroid) + '\\nDimension: ' + str(\n",
    "            self.dimension)\n",
    "        for p in self.points:\n",
    "            cluster += '\\n' + str(p)\n",
    "\n",
    "        return cluster + '\\n\\n'\n"
   ]
  },
  {
   "cell_type": "markdown",
   "metadata": {},
   "source": [
    "Crearemos una función para leer los datasets en formato txt, esta función devolverá una lista de objetos Point"
   ]
  },
  {
   "cell_type": "code",
   "execution_count": null,
   "metadata": {},
   "outputs": [],
   "source": [
    "def dataset_to_list_points(dir_dataset):\n",
    "    \"\"\"\n",
    "    Read a txt file with a set of points and return a list of objects Point\n",
    "    :param dir_dataset:\n",
    "    \"\"\"\n",
    "    points = list()\n",
    "    with open(dir_dataset, 'rt') as reader:\n",
    "        for point in reader:\n",
    "            points.append(Point(np.asarray(list(map(float, point.split(\"::\"))))))\n",
    "    return points"
   ]
  },
  {
   "cell_type": "markdown",
   "metadata": {},
   "source": [
    "Crearemos una función para calcular el cluster más cercano a un punto dado"
   ]
  },
  {
   "cell_type": "code",
   "execution_count": null,
   "metadata": {},
   "outputs": [],
   "source": [
    "def get_nearest_cluster(clusters, point):\n",
    "    \"\"\"\n",
    "    Calculate the nearest cluster\n",
    "    :param clusters: old clusters\n",
    "    :param point: point to assign cluster\n",
    "    :return: index of list cluster\n",
    "    \"\"\"\n",
    "    dist = np.zeros(len(clusters))\n",
    "    for i, c in enumerate(clusters):\n",
    "        dist[i] = distance.euclidean(point.coordinates, c.centroid)\n",
    "    return np.argmin(dist)"
   ]
  },
  {
   "cell_type": "markdown",
   "metadata": {},
   "source": [
    "Estas funciones a continuación nos sirven para loggear información sobre los clusters. Ya están implementadas"
   ]
  },
  {
   "cell_type": "code",
   "execution_count": null,
   "metadata": {},
   "outputs": [],
   "source": [
    "def print_clusters_status(it_counter, clusters):\n",
    "    print('\\nITERATION %d' % it_counter)\n",
    "    for i, c in enumerate(clusters):\n",
    "        print('\\tCentroid Cluster %d: %s' % (i + 1, str(c.centroid)))\n",
    "\n",
    "\n",
    "def print_results(clusters):\n",
    "    print('\\n\\nFINAL RESULT:')\n",
    "    for i, c in enumerate(clusters):\n",
    "        print('\\tCluster %d' % (i + 1))\n",
    "        print('\\t\\tNumber Points in Cluster %d' % len(c.points))\n",
    "        print('\\t\\tCentroid: %s' % str(c.centroid))\n",
    "\n",
    "\n",
    "def plot_results(clusters):\n",
    "    plt.plot()\n",
    "    for i, c in enumerate(clusters):\n",
    "        # plot points\n",
    "        x, y = zip(*[p.coordinates for p in c.points])\n",
    "        plt.plot(x, y, linestyle='None', color=COLORS[i], marker='.')\n",
    "        # plot centroids\n",
    "        plt.plot(c.centroid[0], c.centroid[1], 'o', color=COLORS[i],\n",
    "                 markeredgecolor='k', markersize=10)\n",
    "    plt.show()"
   ]
  },
  {
   "cell_type": "markdown",
   "metadata": {},
   "source": [
    "Finalmente, creamos la función KMeans que recibirá únicamente:\n",
    "- Un dataset a nuestra elección (DATASET1/2/3/4)\n",
    "- El número de clusters (k)\n",
    "- El número máximo de iteraciones"
   ]
  },
  {
   "cell_type": "code",
   "execution_count": null,
   "metadata": {},
   "outputs": [],
   "source": [
    "\n",
    "def k_means(dataset, num_clusters, iterations):\n",
    "    # Read data set\n",
    "    points = dataset_to_list_points(dataset)\n",
    "\n",
    "    # Select N points random to initiacize the N Clusters\n",
    "    initial = random.sample(points, num_clusters)\n",
    "\n",
    "    # Create N initial Clusters\n",
    "    clusters = [Cluster([p]) for p in initial]\n",
    "\n",
    "    # Inicialize list of lists to save the new points of cluster\n",
    "    new_points_cluster = [[] for i in range(num_clusters)]\n",
    "\n",
    "    converge = False\n",
    "    it_counter = 0\n",
    "    while (not converge) and (it_counter < iterations):\n",
    "        # Assign points in nearest centroid\n",
    "        for p in points:\n",
    "            i_cluster = get_nearest_cluster(clusters, p)\n",
    "            new_points_cluster[i_cluster].append(p)\n",
    "\n",
    "        # Set new points in clusters and calculate the new centroids\n",
    "        for i, c in enumerate(clusters):\n",
    "            c.update_cluster(new_points_cluster[i])\n",
    "        \n",
    "\n",
    "        # Check that converge all Clusters\n",
    "        converge = [c.converge for c in clusters].count(False) == 0\n",
    "\n",
    "        # Increment counter and delete lists of clusters points\n",
    "        it_counter += 1\n",
    "        new_points_cluster = [[] for i in range(num_clusters)]\n",
    "\n",
    "        # Print clusters status\n",
    "        print_clusters_status(it_counter, clusters)\n",
    "        \n",
    "\n",
    "    # Print final result\n",
    "    print_results(clusters)\n",
    "\n",
    "    plot_results(clusters)"
   ]
  },
  {
   "cell_type": "code",
   "execution_count": 10,
   "metadata": {},
   "outputs": [
    {
     "name": "stdout",
     "output_type": "stream",
     "text": [
      "\n",
      "ITERATION 1\n",
      "\tCentroid Cluster 1: [1.4299226821111113, 1.2515517600999997]\n",
      "\tCentroid Cluster 2: [2.0719432783063496, 4.020104394814284]\n",
      "\tCentroid Cluster 3: [5.230187879312175, 4.883921015820104]\n",
      "\n",
      "ITERATION 2\n",
      "\tCentroid Cluster 1: [1.930607770266168, 1.638033419119403]\n",
      "\tCentroid Cluster 2: [1.6149769239915495, 5.174203684129576]\n",
      "\tCentroid Cluster 3: [4.966093907599174, 4.899481054500002]\n",
      "\n",
      "ITERATION 3\n",
      "\tCentroid Cluster 1: [2.0289635618874047, 1.9216674834732819]\n",
      "\tCentroid Cluster 2: [1.1519762402488896, 6.501350566604445]\n",
      "\tCentroid Cluster 3: [4.915377187272002, 4.844994074860001]\n",
      "\n",
      "ITERATION 4\n",
      "\tCentroid Cluster 1: [2.0297243138036376, 2.002597935785454]\n",
      "\tCentroid Cluster 2: [1.0110313303520406, 6.881641713040817]\n",
      "\tCentroid Cluster 3: [4.888163414869566, 4.864725364043481]\n",
      "\n",
      "ITERATION 5\n",
      "\tCentroid Cluster 1: [2.0297243138036376, 2.002597935785454]\n",
      "\tCentroid Cluster 2: [1.0110313303520406, 6.881641713040817]\n",
      "\tCentroid Cluster 3: [4.888163414869566, 4.864725364043481]\n",
      "\n",
      "\n",
      "FINAL RESULT:\n",
      "\tCluster 1\n",
      "\t\tNumber Points in Cluster 550\n",
      "\t\tCentroid: [2.0297243138036376, 2.002597935785454]\n",
      "\tCluster 2\n",
      "\t\tNumber Points in Cluster 196\n",
      "\t\tCentroid: [1.0110313303520406, 6.881641713040817]\n",
      "\tCluster 3\n",
      "\t\tNumber Points in Cluster 253\n",
      "\t\tCentroid: [4.888163414869566, 4.864725364043481]\n"
     ]
    },
    {
     "data": {
      "image/png": "[encoded data removed]",
      "text/plain": [
       "<Figure size 640x480 with 1 Axes>"
      ]
     },
     "metadata": {},
     "output_type": "display_data"
    }
   ],
   "source": [
    "k_means(\n",
    "    dataset=DATASET1,\n",
    "    num_clusters=3,\n",
    "    iterations=10\n",
    ")"
   ]
  }
 ],
 "metadata": {
  "kernelspec": {
   "display_name": "Python 3",
   "language": "python",
   "name": "python3"
  },
  "language_info": {
   "codemirror_mode": {
    "name": "ipython",
    "version": 3
   },
   "file_extension": ".py",
   "mimetype": "text/x-python",
   "name": "python",
   "nbconvert_exporter": "python",
   "pygments_lexer": "ipython3",
   "version": "3.10.12"
  }
 },
 "nbformat": 4,
 "nbformat_minor": 2
}
