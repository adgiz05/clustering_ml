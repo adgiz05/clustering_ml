{
 "cells": [
  {
   "cell_type": "code",
   "execution_count": 1,
   "metadata": {},
   "outputs": [],
   "source": [
    "import random\n",
    "\n",
    "import numpy as np\n",
    "import matplotlib.pyplot as plt\n",
    "from scipy.spatial import distance\n",
    "\n",
    "DATASET1 = \"./dataSets/DS_3Clusters_999Points.txt\"\n",
    "DATASET2 = \"./dataSets/DS2_3Clusters_999Points.txt\"\n",
    "DATASET3 = \"./dataSets/DS_5Clusters_10000Points.txt\"\n",
    "DATASET4 = \"./dataSets/DS_7Clusters_100000Points.txt\"\n",
    "\n",
    "COLORS = ['red', 'blue', 'green', 'yellow', 'gray', 'pink', 'violet', 'brown', 'cyan', 'magenta']"
   ]
  },
  {
   "cell_type": "markdown",
   "metadata": {},
   "source": [
    "La clase Point es inicializada con sus coordenadas así como de su dimensión.\n",
    "\n",
    "La clase Cluster recibe una lista con sus puntos pertenecientes. Incorpora dos funciones principales:\n",
    "- calculate_centroid\n",
    "- update_centroid"
   ]
  },
  {
   "cell_type": "code",
   "execution_count": null,
   "metadata": {},
   "outputs": [],
   "source": [
    "class Point:\n",
    "    \"\"\"\n",
    "    Class to represent a point in N dimension\n",
    "    \"\"\"\n",
    "    #TO IMPLEMENT\n",
    "    def __init__(self, coordinates):\n",
    "        pass\n",
    "       \n",
    "    #TO IMPLEMENT\n",
    "    def __repr__(self):\n",
    "        pass\n",
    "\n",
    "class Cluster:\n",
    "    \"\"\"\n",
    "    Class to represent a Cluster: set of points and their centroid\n",
    "    \"\"\"\n",
    "\n",
    "    def __init__(self, points):\n",
    "        if len(points) == 0:\n",
    "            raise Exception(\"Cluster cannot have 0 Points\")\n",
    "        else:\n",
    "            self.points = points\n",
    "            self.dimension = points[0].dimension\n",
    "\n",
    "        # Check that all elements of the cluster have the same dimension\n",
    "        for p in points:\n",
    "            if p.dimension != self.dimension:\n",
    "                raise Exception(\n",
    "                    \"Point %s has dimension %d different with %d from the rest \"\n",
    "                    \"of points\") % (p, len(p), self.dimension)\n",
    "\n",
    "        # Calculate Centroid\n",
    "        self.centroid = self.calculate_centroid()\n",
    "        self.converge = False\n",
    "\n",
    "    #TO IMPLEMENT\n",
    "    def calculate_centroid(self):\n",
    "        \"\"\"\n",
    "         Centroid of cluster\n",
    "        \"\"\"\n",
    "       \n",
    "    #TO IMPLEMENT\n",
    "    def update_cluster(self, points):\n",
    "        \"\"\"\n",
    "        New centroid, check if converge\n",
    "        \"\"\"\n",
    "        \n",
    "\n",
    "    def __repr__(self):\n",
    "        cluster = 'Centroid: ' + str(self.centroid) + '\\nDimension: ' + str(\n",
    "            self.dimension)\n",
    "        for p in self.points:\n",
    "            cluster += '\\n' + str(p)\n",
    "\n",
    "        return cluster + '\\n\\n'"
   ]
  },
  {
   "cell_type": "markdown",
   "metadata": {},
   "source": [
    "Crearemos una función para leer los datasets en formato txt, esta función devolverá una lista de objetos Point"
   ]
  },
  {
   "cell_type": "code",
   "execution_count": null,
   "metadata": {},
   "outputs": [],
   "source": [
    "#TO IMPLEMENT\n",
    "def dataset_to_list_points(dir_dataset):\n",
    "    \"\"\"\n",
    "    Read a txt file with a set of points and return a list of objects Point\n",
    "    :param dir_dataset:\n",
    "    \"\"\"\n",
    "    \n",
    "    return points\n"
   ]
  },
  {
   "cell_type": "markdown",
   "metadata": {},
   "source": [
    "Crearemos una función para calcular el cluster más cercano a un punto dado"
   ]
  },
  {
   "cell_type": "code",
   "execution_count": null,
   "metadata": {},
   "outputs": [],
   "source": [
    "\n",
    "#TO IMPLEMENT\n",
    "def get_nearest_cluster(clusters, point):\n",
    "    \"\"\"\n",
    "    Calculate the nearest cluster\n",
    "    \"\"\""
   ]
  },
  {
   "cell_type": "markdown",
   "metadata": {},
   "source": [
    "Estas funciones a continuación nos sirven para loggear información sobre los clusters. Ya están implementadas"
   ]
  },
  {
   "cell_type": "code",
   "execution_count": null,
   "metadata": {},
   "outputs": [],
   "source": [
    "def print_clusters_status(it_counter, clusters):\n",
    "    print('\\nITERATION %d' % it_counter)\n",
    "    for i, c in enumerate(clusters):\n",
    "        print('\\tCentroid Cluster %d: %s' % (i + 1, str(c.centroid)))\n",
    "\n",
    "\n",
    "def print_results(clusters):\n",
    "    print('\\n\\nFINAL RESULT:')\n",
    "    for i, c in enumerate(clusters):\n",
    "        print('\\tCluster %d' % (i + 1))\n",
    "        print('\\t\\tNumber Points in Cluster %d' % len(c.points))\n",
    "        print('\\t\\tCentroid: %s' % str(c.centroid))\n",
    "\n",
    "\n",
    "def plot_results(clusters):\n",
    "    plt.plot()\n",
    "    for i, c in enumerate(clusters):\n",
    "        # plot points\n",
    "        x, y = zip(*[p.coordinates for p in c.points])\n",
    "        plt.plot(x, y, linestyle='None', color=COLORS[i], marker='.')\n",
    "        # plot centroids\n",
    "        plt.plot(c.centroid[0], c.centroid[1], 'o', color=COLORS[i],\n",
    "                 markeredgecolor='k', markersize=10)\n",
    "    plt.show()"
   ]
  },
  {
   "cell_type": "markdown",
   "metadata": {},
   "source": [
    "Finalmente, creamos la función KMeans que recibirá únicamente:\n",
    "- Un dataset a nuestra elección (DATASET1/2/3/4)\n",
    "- El número de clusters (k)\n",
    "- El número máximo de iteraciones"
   ]
  },
  {
   "cell_type": "code",
   "execution_count": null,
   "metadata": {},
   "outputs": [],
   "source": [
    "#TO IMPLEMENT\n",
    "def k_means(dataset, num_clusters, iterations):\n",
    "    # Read data set\n",
    "\n",
    "    # Select N points random to initiacize the N Clusters\n",
    "   \n",
    "    # Create N initial Clusters\n",
    "\n",
    "    # Inicialize list of lists to save the new points of cluster\n",
    "\n",
    "    converge = False\n",
    "    it_counter = 0\n",
    "    \n",
    "    while (not converge) and (it_counter < iterations):\n",
    "        # Assign points in nearest centroid\n",
    "    \n",
    "        # Set new points in clusters and calculate de new centroids\n",
    "       \n",
    "        # Check that converge all Clusters\n",
    "       \n",
    "        # Increment counter and delete lists of clusters points\n",
    "\n",
    "        # Print clusters status\n",
    "        print_clusters_status(it_counter, clusters)\n",
    "        \n",
    "\n",
    "    # Print final result\n",
    "    print_results(clusters)\n",
    "\n",
    "    plot_results(clusters)"
   ]
  },
  {
   "cell_type": "code",
   "execution_count": null,
   "metadata": {},
   "outputs": [],
   "source": [
    "k_means(\n",
    "    dataset=DATASET1,\n",
    "    num_clusters=3,\n",
    "    iterations=10\n",
    ")"
   ]
  }
 ],
 "metadata": {
  "kernelspec": {
   "display_name": "Python 3",
   "language": "python",
   "name": "python3"
  },
  "language_info": {
   "codemirror_mode": {
    "name": "ipython",
    "version": 3
   },
   "file_extension": ".py",
   "mimetype": "text/x-python",
   "name": "python",
   "nbconvert_exporter": "python",
   "pygments_lexer": "ipython3",
   "version": "3.10.12"
  }
 },
 "nbformat": 4,
 "nbformat_minor": 2
}
